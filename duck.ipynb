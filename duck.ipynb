{
 "cells": [
  {
   "cell_type": "code",
   "execution_count": 76,
   "metadata": {},
   "outputs": [],
   "source": [
    "import numpy as np\n",
    "import cv2\n",
    "import sys\n",
    "import os\n",
    "from sklearn.model_selection import train_test_split\n",
    "from sklearn.naive_bayes import MultinomialNB\n",
    "from sklearn.naive_bayes import GaussianNB"
   ]
  },
  {
   "cell_type": "code",
   "execution_count": 77,
   "metadata": {},
   "outputs": [
    {
     "name": "stdout",
     "output_type": "stream",
     "text": [
      "1.png\n",
      "10.png\n",
      "2 .png\n",
      "3.png\n",
      "4.png\n",
      "5.png\n",
      "6..png\n",
      "7.png\n",
      "8.png\n",
      "9.png\n",
      "加入non_ducks資料完成\n"
     ]
    }
   ],
   "source": [
    "#輸入非鴨子訓練資料\n",
    "nondurk=os.listdir('nonduck/')\n",
    "data=[]\n",
    "labal=[]\n",
    "for i in nondurk:\n",
    "    src = 'nonduck/'+i\n",
    "    img = cv2.imread(src, cv2.IMREAD_UNCHANGED)\n",
    "    print(i)\n",
    "    for i in range(img.shape[0]):\n",
    "        for j in range(img.shape[1]):\n",
    "            #print(img[i,j])\n",
    "            data.append(img[i,j])\n",
    "            labal.append(0)\n",
    "print(\"加入non_ducks資料完成\")"
   ]
  },
  {
   "cell_type": "code",
   "execution_count": 78,
   "metadata": {},
   "outputs": [
    {
     "name": "stdout",
     "output_type": "stream",
     "text": [
      "1.png\n",
      "10.png\n",
      "2.png\n",
      "3.png\n",
      "4.png\n",
      "5.png\n",
      "6.png\n",
      "7.png\n",
      "8.png\n",
      "9.png\n",
      "加入ducks資料完成\n"
     ]
    }
   ],
   "source": [
    "#輸入鴨子訓練資料\n",
    "durk=os.listdir('duck/')\n",
    "for i in durk:\n",
    "    src = 'duck/'+i\n",
    "    img = cv2.imread(src, cv2.IMREAD_UNCHANGED)\n",
    "    print(i)\n",
    "    for i in range(img.shape[0]):\n",
    "        for j in range(img.shape[1]):\n",
    "            #print(img[i,j])\n",
    "            data.append(img[i,j])\n",
    "            labal.append(1)\n",
    "print(\"加入ducks資料完成\")\n",
    "#轉換成numpy_array\n",
    "data = np.array(data)\n",
    "labal = np.array(labal)"
   ]
  },
  {
   "cell_type": "code",
   "execution_count": 79,
   "metadata": {},
   "outputs": [
    {
     "ename": "AttributeError",
     "evalue": "'numpy.ndarray' object has no attribute 'cv2'",
     "output_type": "error",
     "traceback": [
      "\u001b[1;31m---------------------------------------------------------------------------\u001b[0m",
      "\u001b[1;31mAttributeError\u001b[0m                            Traceback (most recent call last)",
      "\u001b[1;32m~\\AppData\\Local\\Temp/ipykernel_2396/4268086040.py\u001b[0m in \u001b[0;36m<module>\u001b[1;34m\u001b[0m\n\u001b[0;32m      8\u001b[0m         \u001b[0morigin_img\u001b[0m\u001b[1;33m[\u001b[0m\u001b[0mi\u001b[0m\u001b[1;33m,\u001b[0m\u001b[0mj\u001b[0m\u001b[1;33m]\u001b[0m \u001b[1;33m=\u001b[0m \u001b[1;36m0\u001b[0m\u001b[1;33m,\u001b[0m\u001b[1;36m0\u001b[0m\u001b[1;33m,\u001b[0m\u001b[1;36m0\u001b[0m\u001b[1;33m,\u001b[0m\u001b[1;36m255\u001b[0m\u001b[1;33m\u001b[0m\u001b[1;33m\u001b[0m\u001b[0m\n\u001b[0;32m      9\u001b[0m \u001b[1;33m\u001b[0m\u001b[0m\n\u001b[1;32m---> 10\u001b[1;33m \u001b[0morigin_img\u001b[0m\u001b[1;33m.\u001b[0m\u001b[0mcv2\u001b[0m\u001b[1;33m.\u001b[0m\u001b[0mimshow\u001b[0m\u001b[1;33m(\u001b[0m\u001b[1;34m\"000\"\u001b[0m\u001b[1;33m)\u001b[0m\u001b[1;33m\u001b[0m\u001b[1;33m\u001b[0m\u001b[0m\n\u001b[0m",
      "\u001b[1;31mAttributeError\u001b[0m: 'numpy.ndarray' object has no attribute 'cv2'"
     ]
    }
   ],
   "source": [
    "clf_pf = GaussianNB()\n",
    "clf_pf.fit(data, labal) \n",
    "img = cv2.imread('output.png',cv2.IMREAD_UNCHANGED)\n",
    "shape = (img.shape[0], img.shape[1], 4) # y, x, RGB\n",
    "origin_img = np.zeros(shape, np.uint8)\n",
    "for i in range(origin_img.shape[0]):\n",
    "    for j in range(origin_img.shape[1]):\n",
    "        origin_img[i,j] = 0,0,0,255\n",
    "\n"
   ]
  },
  {
   "cell_type": "code",
   "execution_count": 81,
   "metadata": {},
   "outputs": [
    {
     "data": {
      "text/plain": [
       "True"
      ]
     },
     "execution_count": 81,
     "metadata": {},
     "output_type": "execute_result"
    }
   ],
   "source": [
    "for i in range(img.shape[0]):\n",
    "    data=[]\n",
    "    for j in range(img.shape[1]) :\n",
    "        data.append(img[i,j])\n",
    "    data = np.array(data)\n",
    "    predict = clf_pf.predict(data)\n",
    "    for j in range(img.shape[1]) :\n",
    "        if(predict[j]==1):\n",
    "            origin_img[i,j]=255,255,255,255\n",
    "        #if(predict[j]== 0):\n",
    "         #   img[i,j] = 0,255,0,255\n",
    "cv2.imwrite('test_end.png', origin_img)"
   ]
  }
 ],
 "metadata": {
  "kernelspec": {
   "display_name": "Python 3 (ipykernel)",
   "language": "python",
   "name": "python3"
  },
  "language_info": {
   "codemirror_mode": {
    "name": "ipython",
    "version": 3
   },
   "file_extension": ".py",
   "mimetype": "text/x-python",
   "name": "python",
   "nbconvert_exporter": "python",
   "pygments_lexer": "ipython3",
   "version": "3.9.7"
  }
 },
 "nbformat": 4,
 "nbformat_minor": 2
}
